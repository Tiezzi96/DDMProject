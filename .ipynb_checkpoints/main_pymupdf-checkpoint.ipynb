{
 "cells": [
  {
   "cell_type": "code",
   "execution_count": 2,
   "metadata": {},
   "outputs": [],
   "source": [
    "from typing import List\n",
    "import fitz  \n",
    "from fitz.fitz import Point, Page, Rect\n",
    "from pprint import pprint\n",
    "from itertools import groupby\n",
    "import json\n",
    "\n",
    "# optional\n",
    "#import pdfkit\n"
   ]
  },
  {
   "cell_type": "code",
   "execution_count": 3,
   "metadata": {},
   "outputs": [
    {
     "name": "stdout",
     "output_type": "stream",
     "text": [
      "\n",
      "PyMuPDF 1.19.5: Python bindings for the MuPDF 1.19.0 library.\n",
      "Version date: 2022-02-01 00:00:01.\n",
      "Built for Python 3.8 on linux (64-bit).\n",
      "\n"
     ]
    }
   ],
   "source": [
    "print(fitz.__doc__)"
   ]
  },
  {
   "cell_type": "code",
   "execution_count": 4,
   "metadata": {},
   "outputs": [
    {
     "name": "stderr",
     "output_type": "stream",
     "text": [
      "mupdf: read error: Is a directory\n",
      "mupdf: cannot recognize version marker\n",
      "mupdf: read error: Is a directory\n",
      "mupdf: read error: Is a directory\n",
      "mupdf: cannot tell in file\n"
     ]
    },
    {
     "ename": "RuntimeError",
     "evalue": "cannot tell in file",
     "output_type": "error",
     "traceback": [
      "\u001b[0;31m---------------------------------------------------------------------------\u001b[0m",
      "\u001b[0;31mRuntimeError\u001b[0m                              Traceback (most recent call last)",
      "Input \u001b[0;32mIn [4]\u001b[0m, in \u001b[0;36m<module>\u001b[0;34m\u001b[0m\n\u001b[1;32m      2\u001b[0m DOC_NAME \u001b[38;5;241m=\u001b[39m \u001b[38;5;124m\"\u001b[39m\u001b[38;5;124m\"\u001b[39m\n\u001b[1;32m      3\u001b[0m DOC_PATH \u001b[38;5;241m=\u001b[39m BASE_PATH \u001b[38;5;241m+\u001b[39m \u001b[38;5;124m\"\u001b[39m\u001b[38;5;124m/\u001b[39m\u001b[38;5;124m\"\u001b[39m \u001b[38;5;241m+\u001b[39m DOC_NAME\n\u001b[0;32m----> 4\u001b[0m doc \u001b[38;5;241m=\u001b[39m \u001b[43mfitz\u001b[49m\u001b[38;5;241;43m.\u001b[39;49m\u001b[43mopen\u001b[49m\u001b[43m(\u001b[49m\u001b[38;5;124;43mf\u001b[39;49m\u001b[38;5;124;43m\"\u001b[39;49m\u001b[38;5;132;43;01m{\u001b[39;49;00m\u001b[43mDOC_PATH\u001b[49m\u001b[38;5;132;43;01m}\u001b[39;49;00m\u001b[38;5;124;43m\"\u001b[39;49m\u001b[43m)\u001b[49m\n\u001b[1;32m      5\u001b[0m page \u001b[38;5;241m=\u001b[39m doc[\u001b[38;5;241m0\u001b[39m]\n",
      "File \u001b[0;32m~/PycharmProjects/pythonProject3/venv/lib/python3.8/site-packages/fitz/fitz.py:3845\u001b[0m, in \u001b[0;36mDocument.__init__\u001b[0;34m(self, filename, stream, filetype, rect, width, height, fontsize)\u001b[0m\n\u001b[1;32m   3840\u001b[0m \u001b[38;5;28mself\u001b[39m\u001b[38;5;241m.\u001b[39mInsertedImages \u001b[38;5;241m=\u001b[39m {}\n\u001b[1;32m   3841\u001b[0m \u001b[38;5;28mself\u001b[39m\u001b[38;5;241m.\u001b[39m_page_refs \u001b[38;5;241m=\u001b[39m weakref\u001b[38;5;241m.\u001b[39mWeakValueDictionary()\n\u001b[1;32m   3843\u001b[0m _fitz\u001b[38;5;241m.\u001b[39mDocument_swiginit(\n\u001b[1;32m   3844\u001b[0m     \u001b[38;5;28mself\u001b[39m,\n\u001b[0;32m-> 3845\u001b[0m     \u001b[43m_fitz\u001b[49m\u001b[38;5;241;43m.\u001b[39;49m\u001b[43mnew_Document\u001b[49m\u001b[43m(\u001b[49m\n\u001b[1;32m   3846\u001b[0m \u001b[43m        \u001b[49m\u001b[43mfilename\u001b[49m\u001b[43m,\u001b[49m\u001b[43m \u001b[49m\u001b[43mstream\u001b[49m\u001b[43m,\u001b[49m\u001b[43m \u001b[49m\u001b[43mfiletype\u001b[49m\u001b[43m,\u001b[49m\u001b[43m \u001b[49m\u001b[43mrect\u001b[49m\u001b[43m,\u001b[49m\u001b[43m \u001b[49m\u001b[43mwidth\u001b[49m\u001b[43m,\u001b[49m\u001b[43m \u001b[49m\u001b[43mheight\u001b[49m\u001b[43m,\u001b[49m\u001b[43m \u001b[49m\u001b[43mfontsize\u001b[49m\n\u001b[1;32m   3847\u001b[0m \u001b[43m    \u001b[49m\u001b[43m)\u001b[49m,\n\u001b[1;32m   3848\u001b[0m )\n\u001b[1;32m   3850\u001b[0m \u001b[38;5;28;01mif\u001b[39;00m \u001b[38;5;28mself\u001b[39m\u001b[38;5;241m.\u001b[39mthisown:\n\u001b[1;32m   3851\u001b[0m     \u001b[38;5;28mself\u001b[39m\u001b[38;5;241m.\u001b[39m_graft_id \u001b[38;5;241m=\u001b[39m TOOLS\u001b[38;5;241m.\u001b[39mgen_id()\n",
      "\u001b[0;31mRuntimeError\u001b[0m: cannot tell in file"
     ]
    }
   ],
   "source": [
    "BASE_PATH = \"\"\n",
    "DOC_NAME = \"\"\n",
    "DOC_PATH = BASE_PATH + \"/\" + DOC_NAME\n",
    "doc = fitz.open(f\"{DOC_PATH}\")\n",
    "page = doc[0] # apri pure più pagine oltre la prima"
   ]
  },
  {
   "cell_type": "code",
   "execution_count": 5,
   "metadata": {},
   "outputs": [],
   "source": [
    "from fitz.utils import getColorList\n",
    "cl = getColorList()\n",
    "\n",
    "color_line = fitz.utils.getColor(\"BLUE\")\n",
    "color_rect = fitz.utils.getColor(\"ORANGE\")\n",
    "color_bezr = fitz.utils.getColor(\"BROWN\")\n",
    "color_block = fitz.utils.getColor(\"RED\")\n",
    "color_textline = fitz.utils.getColor(\"PINK\")\n",
    "color_word = fitz.utils.getColor(\"YELLOW\")\n",
    "color_images = fitz.utils.getColor(\"GREEN\")"
   ]
  },
  {
   "cell_type": "code",
   "execution_count": 6,
   "metadata": {},
   "outputs": [
    {
     "ename": "NameError",
     "evalue": "name 'page' is not defined",
     "output_type": "error",
     "traceback": [
      "\u001b[0;31m---------------------------------------------------------------------------\u001b[0m",
      "\u001b[0;31mNameError\u001b[0m                                 Traceback (most recent call last)",
      "Input \u001b[0;32mIn [6]\u001b[0m, in \u001b[0;36m<module>\u001b[0;34m\u001b[0m\n\u001b[1;32m      1\u001b[0m \u001b[38;5;66;03m# immagini\u001b[39;00m\n\u001b[0;32m----> 2\u001b[0m images \u001b[38;5;241m=\u001b[39m \u001b[43mpage\u001b[49m\u001b[38;5;241m.\u001b[39mget_image_info()\n\u001b[1;32m      3\u001b[0m images\n",
      "\u001b[0;31mNameError\u001b[0m: name 'page' is not defined"
     ]
    }
   ],
   "source": [
    "# immagini\n",
    "images = page.get_image_info()\n",
    "images"
   ]
  },
  {
   "cell_type": "code",
   "execution_count": 7,
   "metadata": {},
   "outputs": [
    {
     "ename": "NameError",
     "evalue": "name 'page' is not defined",
     "output_type": "error",
     "traceback": [
      "\u001b[0;31m---------------------------------------------------------------------------\u001b[0m",
      "\u001b[0;31mNameError\u001b[0m                                 Traceback (most recent call last)",
      "Input \u001b[0;32mIn [7]\u001b[0m, in \u001b[0;36m<module>\u001b[0;34m\u001b[0m\n\u001b[1;32m      1\u001b[0m \u001b[38;5;66;03m# linee, rettangoli etc.\u001b[39;00m\n\u001b[0;32m----> 2\u001b[0m draws \u001b[38;5;241m=\u001b[39m \u001b[43mpage\u001b[49m\u001b[38;5;241m.\u001b[39mget_drawings()\n\u001b[1;32m      3\u001b[0m \u001b[38;5;28;01mfor\u001b[39;00m path \u001b[38;5;129;01min\u001b[39;00m draws:\n\u001b[1;32m      4\u001b[0m     \u001b[38;5;28;01mfor\u001b[39;00m item \u001b[38;5;129;01min\u001b[39;00m path[\u001b[38;5;124m\"\u001b[39m\u001b[38;5;124mitems\u001b[39m\u001b[38;5;124m\"\u001b[39m]:  \u001b[38;5;66;03m# these are the draw commands\u001b[39;00m\n\u001b[1;32m      5\u001b[0m         \u001b[38;5;66;03m# ------------------------------------\u001b[39;00m\n\u001b[1;32m      6\u001b[0m         \u001b[38;5;66;03m# draw each entry of the 'items' list\u001b[39;00m\n\u001b[1;32m      7\u001b[0m         \u001b[38;5;66;03m# ------------------------------------\u001b[39;00m\n",
      "\u001b[0;31mNameError\u001b[0m: name 'page' is not defined"
     ]
    }
   ],
   "source": [
    "# linee, rettangoli etc.\n",
    "draws = page.get_drawings()\n",
    "for path in draws:\n",
    "    for item in path[\"items\"]:  # these are the draw commands\n",
    "        # ------------------------------------\n",
    "        # draw each entry of the 'items' list\n",
    "        # ------------------------------------\n",
    "        if item[0] == \"l\":  # line\n",
    "            page.draw_line(item[1], item[2], color=color_line)\n",
    "        elif item[0] == \"re\":  # rectangle\n",
    "            page.draw_rect(item[1], color=color_rect)\n",
    "        elif item[0] == \"c\":  # curve\n",
    "            page.draw_bezier(item[1], item[2], item[3], item[4], color=color_bezr)\n",
    "            \n",
    "doc.save(f'{BASE_PATH}/page_draws.pdf')"
   ]
  },
  {
   "cell_type": "code",
   "execution_count": 8,
   "metadata": {},
   "outputs": [
    {
     "ename": "NameError",
     "evalue": "name 'page' is not defined",
     "output_type": "error",
     "traceback": [
      "\u001b[0;31m---------------------------------------------------------------------------\u001b[0m",
      "\u001b[0;31mNameError\u001b[0m                                 Traceback (most recent call last)",
      "Input \u001b[0;32mIn [8]\u001b[0m, in \u001b[0;36m<module>\u001b[0;34m\u001b[0m\n\u001b[1;32m      1\u001b[0m \u001b[38;5;66;03m# TESTO\u001b[39;00m\n\u001b[0;32m----> 2\u001b[0m texts \u001b[38;5;241m=\u001b[39m \u001b[43mpage\u001b[49m\u001b[38;5;241m.\u001b[39mget_text(\u001b[38;5;124m\"\u001b[39m\u001b[38;5;124mjson\u001b[39m\u001b[38;5;124m\"\u001b[39m)\n\u001b[1;32m      3\u001b[0m texts \u001b[38;5;241m=\u001b[39m json\u001b[38;5;241m.\u001b[39mloads(texts)\n\u001b[1;32m      4\u001b[0m \u001b[38;5;28;01mfor\u001b[39;00m block \u001b[38;5;129;01min\u001b[39;00m texts[\u001b[38;5;124m'\u001b[39m\u001b[38;5;124mblocks\u001b[39m\u001b[38;5;124m'\u001b[39m]:\n",
      "\u001b[0;31mNameError\u001b[0m: name 'page' is not defined"
     ]
    }
   ],
   "source": [
    "# TESTO\n",
    "texts = page.get_text(\"json\")\n",
    "texts = json.loads(texts)\n",
    "for block in texts['blocks']:\n",
    "    page.draw_rect(Rect(block['bbox']), color=color_block)\n",
    "    if block['type'] == 0:      # all elements\n",
    "        for line in block['lines']:\n",
    "            page.draw_rect(Rect(line['bbox']), color=color_textline)\n",
    "    elif block['type'] == 1:    # images\n",
    "        page.draw_rect(Rect(block['bbox']), color=color_images)\n",
    "\n",
    "doc.save(f'{BASE_PATH}/page_texts.pdf')"
   ]
  },
  {
   "cell_type": "code",
   "execution_count": 9,
   "metadata": {},
   "outputs": [
    {
     "ename": "NameError",
     "evalue": "name 'page' is not defined",
     "output_type": "error",
     "traceback": [
      "\u001b[0;31m---------------------------------------------------------------------------\u001b[0m",
      "\u001b[0;31mNameError\u001b[0m                                 Traceback (most recent call last)",
      "Input \u001b[0;32mIn [9]\u001b[0m, in \u001b[0;36m<module>\u001b[0;34m\u001b[0m\n\u001b[1;32m      1\u001b[0m \u001b[38;5;66;03m# parole\u001b[39;00m\n\u001b[0;32m----> 2\u001b[0m words \u001b[38;5;241m=\u001b[39m \u001b[43mpage\u001b[49m\u001b[38;5;241m.\u001b[39mget_text(\u001b[38;5;124m'\u001b[39m\u001b[38;5;124mwords\u001b[39m\u001b[38;5;124m'\u001b[39m)\n\u001b[1;32m      3\u001b[0m \u001b[38;5;28;01mfor\u001b[39;00m word \u001b[38;5;129;01min\u001b[39;00m words:\n\u001b[1;32m      4\u001b[0m     \u001b[38;5;28mprint\u001b[39m(word)\n",
      "\u001b[0;31mNameError\u001b[0m: name 'page' is not defined"
     ]
    }
   ],
   "source": [
    "# parole\n",
    "words = page.get_text('words')\n",
    "for word in words:\n",
    "    print(word)\n",
    "    word_rect = Rect(word[0], word[1], word[2], word[3])\n",
    "    page.draw_rect(word_rect, color=color_word)\n",
    "\n",
    "doc.save(f'{BASE_PATH}/page_words.pdf')"
   ]
  },
  {
   "cell_type": "code",
   "execution_count": null,
   "metadata": {},
   "outputs": [],
   "source": []
  },
  {
   "cell_type": "code",
   "execution_count": null,
   "metadata": {},
   "outputs": [],
   "source": []
  }
 ],
 "metadata": {
  "interpreter": {
   "hash": "4615a85eb1c2f8eafc2bff2b84908c99bf46c2da4fb86395e89fa1d7e09c7eb8"
  },
  "kernelspec": {
   "display_name": "Python 3 (ipykernel)",
   "language": "python",
   "name": "python3"
  },
  "language_info": {
   "codemirror_mode": {
    "name": "ipython",
    "version": 3
   },
   "file_extension": ".py",
   "mimetype": "text/x-python",
   "name": "python",
   "nbconvert_exporter": "python",
   "pygments_lexer": "ipython3",
   "version": "3.8.10"
  }
 },
 "nbformat": 4,
 "nbformat_minor": 2
}
